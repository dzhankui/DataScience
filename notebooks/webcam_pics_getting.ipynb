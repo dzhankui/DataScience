{
  "cells": [
    {
      "cell_type": "markdown",
      "metadata": {
        "id": "view-in-github",
        "colab_type": "text"
      },
      "source": [
        "<a href=\"https://colab.research.google.com/github/dzhankui/DataScience/blob/main/notebooks/webcam_pics_getting.ipynb\" target=\"_parent\"><img src=\"https://colab.research.google.com/assets/colab-badge.svg\" alt=\"Open In Colab\"/></a>"
      ]
    },
    {
      "cell_type": "markdown",
      "id": "0e2f34d8",
      "metadata": {
        "toc": true,
        "id": "0e2f34d8"
      },
      "source": [
        "<h1>Table of Contents<span class=\"tocSkip\"></span></h1>\n",
        "<div class=\"toc\"><ul class=\"toc-item\"></ul></div>"
      ]
    },
    {
      "cell_type": "code",
      "execution_count": 1,
      "id": "d8a7540b",
      "metadata": {
        "ExecuteTime": {
          "end_time": "2023-11-14T13:10:25.367561Z",
          "start_time": "2023-11-14T13:10:09.849037Z"
        },
        "collapsed": true,
        "id": "d8a7540b",
        "outputId": "dabbe73a-a5b5-463c-eb13-0305571e6031",
        "colab": {
          "base_uri": "https://localhost:8080/"
        }
      },
      "outputs": [
        {
          "output_type": "stream",
          "name": "stdout",
          "text": [
            "Requirement already satisfied: opencv-python in /usr/local/lib/python3.10/dist-packages (4.8.0.76)\n",
            "Requirement already satisfied: numpy>=1.21.2 in /usr/local/lib/python3.10/dist-packages (from opencv-python) (1.23.5)\n",
            "Collecting facenet-pytorch\n",
            "  Downloading facenet_pytorch-2.5.3-py3-none-any.whl (1.9 MB)\n",
            "\u001b[2K     \u001b[90m━━━━━━━━━━━━━━━━━━━━━━━━━━━━━━━━━━━━━━━━\u001b[0m \u001b[32m1.9/1.9 MB\u001b[0m \u001b[31m19.9 MB/s\u001b[0m eta \u001b[36m0:00:00\u001b[0m\n",
            "\u001b[?25hRequirement already satisfied: numpy in /usr/local/lib/python3.10/dist-packages (from facenet-pytorch) (1.23.5)\n",
            "Requirement already satisfied: requests in /usr/local/lib/python3.10/dist-packages (from facenet-pytorch) (2.31.0)\n",
            "Requirement already satisfied: torchvision in /usr/local/lib/python3.10/dist-packages (from facenet-pytorch) (0.16.0+cu118)\n",
            "Requirement already satisfied: pillow in /usr/local/lib/python3.10/dist-packages (from facenet-pytorch) (9.4.0)\n",
            "Requirement already satisfied: charset-normalizer<4,>=2 in /usr/local/lib/python3.10/dist-packages (from requests->facenet-pytorch) (3.3.2)\n",
            "Requirement already satisfied: idna<4,>=2.5 in /usr/local/lib/python3.10/dist-packages (from requests->facenet-pytorch) (3.4)\n",
            "Requirement already satisfied: urllib3<3,>=1.21.1 in /usr/local/lib/python3.10/dist-packages (from requests->facenet-pytorch) (2.0.7)\n",
            "Requirement already satisfied: certifi>=2017.4.17 in /usr/local/lib/python3.10/dist-packages (from requests->facenet-pytorch) (2023.7.22)\n",
            "Requirement already satisfied: torch==2.1.0 in /usr/local/lib/python3.10/dist-packages (from torchvision->facenet-pytorch) (2.1.0+cu118)\n",
            "Requirement already satisfied: filelock in /usr/local/lib/python3.10/dist-packages (from torch==2.1.0->torchvision->facenet-pytorch) (3.13.1)\n",
            "Requirement already satisfied: typing-extensions in /usr/local/lib/python3.10/dist-packages (from torch==2.1.0->torchvision->facenet-pytorch) (4.5.0)\n",
            "Requirement already satisfied: sympy in /usr/local/lib/python3.10/dist-packages (from torch==2.1.0->torchvision->facenet-pytorch) (1.12)\n",
            "Requirement already satisfied: networkx in /usr/local/lib/python3.10/dist-packages (from torch==2.1.0->torchvision->facenet-pytorch) (3.2.1)\n",
            "Requirement already satisfied: jinja2 in /usr/local/lib/python3.10/dist-packages (from torch==2.1.0->torchvision->facenet-pytorch) (3.1.2)\n",
            "Requirement already satisfied: fsspec in /usr/local/lib/python3.10/dist-packages (from torch==2.1.0->torchvision->facenet-pytorch) (2023.6.0)\n",
            "Requirement already satisfied: triton==2.1.0 in /usr/local/lib/python3.10/dist-packages (from torch==2.1.0->torchvision->facenet-pytorch) (2.1.0)\n",
            "Requirement already satisfied: MarkupSafe>=2.0 in /usr/local/lib/python3.10/dist-packages (from jinja2->torch==2.1.0->torchvision->facenet-pytorch) (2.1.3)\n",
            "Requirement already satisfied: mpmath>=0.19 in /usr/local/lib/python3.10/dist-packages (from sympy->torch==2.1.0->torchvision->facenet-pytorch) (1.3.0)\n",
            "Installing collected packages: facenet-pytorch\n",
            "Successfully installed facenet-pytorch-2.5.3\n"
          ]
        }
      ],
      "source": [
        "!pip install opencv-python\n",
        "!pip install facenet-pytorch"
      ]
    },
    {
      "cell_type": "code",
      "execution_count": 2,
      "id": "07018e4d",
      "metadata": {
        "ExecuteTime": {
          "end_time": "2023-11-14T14:27:57.994039Z",
          "start_time": "2023-11-14T14:27:57.352788Z"
        },
        "id": "07018e4d"
      },
      "outputs": [],
      "source": [
        "import cv2\n",
        "import os\n",
        "import time\n",
        "import torch.optim as optim\n",
        "import matplotlib.pyplot as plt\n",
        "import PIL.Image\n",
        "import torch.cuda as cuda\n",
        "from facenet_pytorch import MTCNN, InceptionResnetV1\n",
        "from tqdm import tqdm\n",
        "from IPython.display import display, clear_output"
      ]
    },
    {
      "cell_type": "code",
      "execution_count": 3,
      "id": "f6ad102b",
      "metadata": {
        "ExecuteTime": {
          "end_time": "2023-11-14T15:38:40.422897Z",
          "start_time": "2023-11-14T15:38:29.639678Z"
        },
        "id": "f6ad102b",
        "outputId": "508bba64-ad4a-4ed3-cb29-ab13dcc1ba4e",
        "colab": {
          "base_uri": "https://localhost:8080/"
        }
      },
      "outputs": [
        {
          "output_type": "stream",
          "name": "stdout",
          "text": [
            "Failed to open webcam.\n"
          ]
        }
      ],
      "source": [
        "'''\n",
        "This cell is using to test an acsess to the webcam and see what kind of the pictures you will get\n",
        "'''\n",
        "# Initialize video capture from webcam\n",
        "cap = cv2.VideoCapture(0)  # 0 represents the first connected camera\n",
        "\n",
        "# Check if the webcam is opened successfully\n",
        "if not cap.isOpened():\n",
        "    print(\"Failed to open webcam.\")\n",
        "    cap.release()\n",
        "    exit()\n",
        "\n",
        "# Set the start time for capturing frames\n",
        "start_time = time.time()\n",
        "\n",
        "# Capture and display frames for 10 seconds\n",
        "while time.time() - start_time < 10:\n",
        "    ret, frame = cap.read()\n",
        "\n",
        "    # If frame read is successful, display the frame using matplotlib\n",
        "    if ret:\n",
        "        # Convert the frame from OpenCV's BGR format to RGB format\n",
        "        frame_rgb = cv2.cvtColor(frame, cv2.COLOR_BGR2RGB)\n",
        "\n",
        "        # Display the frame using matplotlib\n",
        "        plt.imshow(frame_rgb)\n",
        "        plt.axis('off')\n",
        "        plt.show()\n",
        "\n",
        "# Release video capture\n",
        "cap.release()"
      ]
    },
    {
      "cell_type": "code",
      "execution_count": null,
      "id": "24c01284",
      "metadata": {
        "ExecuteTime": {
          "end_time": "2023-11-14T15:38:56.337950Z",
          "start_time": "2023-11-14T15:38:45.815139Z"
        },
        "code_folding": [],
        "id": "24c01284",
        "outputId": "30d11752-4577-4164-812e-d590ee28a216"
      },
      "outputs": [
        {
          "name": "stdout",
          "output_type": "stream",
          "text": [
            "Frames saved successfully.\n"
          ]
        }
      ],
      "source": [
        "'''\n",
        "This cell capturing and saving pictures into the `src\\pics` folder\n",
        "'''\n",
        "# Initialize video capture from webcam\n",
        "cap = cv2.VideoCapture(0)  # 0 represents the first connected camera\n",
        "\n",
        "# Check if the webcam is opened successfully\n",
        "if not cap.isOpened():\n",
        "    print(\"Failed to open webcam.\")\n",
        "    cap.release()\n",
        "    exit()\n",
        "\n",
        "# Set the start time for capturing frames\n",
        "start_time = time.time()\n",
        "\n",
        "# Create output directory if it doesn't exist\n",
        "output_dir = r\"C:\\Users\\User\\Documents\\GitHub\\BiometricAntiSpoofing\\src\\pics\"\n",
        "os.makedirs(output_dir, exist_ok=True)\n",
        "\n",
        "# Capture and save frames for 10 seconds\n",
        "frame_index = 0\n",
        "while time.time() - start_time < 10:\n",
        "    ret, frame = cap.read()\n",
        "\n",
        "    # If frame read is successful, save the frame as a .jpg file\n",
        "    if ret:\n",
        "        output_path = os.path.join(output_dir, f\"frame_{frame_index}.jpg\")\n",
        "        cv2.imwrite(output_path, frame)\n",
        "\n",
        "        frame_index += 1\n",
        "\n",
        "# Release video capture\n",
        "cap.release()\n",
        "\n",
        "print(\"Frames saved successfully.\")"
      ]
    },
    {
      "cell_type": "code",
      "execution_count": null,
      "id": "2f53966a",
      "metadata": {
        "id": "2f53966a"
      },
      "outputs": [],
      "source": []
    },
    {
      "cell_type": "code",
      "execution_count": null,
      "id": "42260975",
      "metadata": {
        "id": "42260975"
      },
      "outputs": [],
      "source": []
    }
  ],
  "metadata": {
    "hide_input": false,
    "kernelspec": {
      "display_name": "Python 3",
      "name": "python3"
    },
    "language_info": {
      "codemirror_mode": {
        "name": "ipython",
        "version": 3
      },
      "file_extension": ".py",
      "mimetype": "text/x-python",
      "name": "python",
      "nbconvert_exporter": "python",
      "pygments_lexer": "ipython3",
      "version": "3.11.5"
    },
    "toc": {
      "base_numbering": 1,
      "nav_menu": {},
      "number_sections": true,
      "sideBar": true,
      "skip_h1_title": true,
      "title_cell": "Table of Contents",
      "title_sidebar": "Contents",
      "toc_cell": true,
      "toc_position": {},
      "toc_section_display": true,
      "toc_window_display": false
    },
    "varInspector": {
      "cols": {
        "lenName": 16,
        "lenType": 16,
        "lenVar": 40
      },
      "kernels_config": {
        "python": {
          "delete_cmd_postfix": "",
          "delete_cmd_prefix": "del ",
          "library": "var_list.py",
          "varRefreshCmd": "print(var_dic_list())"
        },
        "r": {
          "delete_cmd_postfix": ") ",
          "delete_cmd_prefix": "rm(",
          "library": "var_list.r",
          "varRefreshCmd": "cat(var_dic_list()) "
        }
      },
      "types_to_exclude": [
        "module",
        "function",
        "builtin_function_or_method",
        "instance",
        "_Feature"
      ],
      "window_display": false
    },
    "colab": {
      "provenance": [],
      "gpuType": "T4",
      "include_colab_link": true
    },
    "accelerator": "GPU"
  },
  "nbformat": 4,
  "nbformat_minor": 5
}